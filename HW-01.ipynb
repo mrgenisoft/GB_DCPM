{
 "cells": [
  {
   "cell_type": "code",
   "execution_count": 1,
   "metadata": {},
   "outputs": [],
   "source": [
    "import requests"
   ]
  },
  {
   "cell_type": "code",
   "execution_count": 2,
   "metadata": {},
   "outputs": [],
   "source": [
    "r = requests.get(\"http://api.eia.gov/category/?api_key=0173575eb351ee94ae4b7a752ed2837d&category_id=371\")"
   ]
  },
  {
   "cell_type": "code",
   "execution_count": 3,
   "metadata": {},
   "outputs": [
    {
     "data": {
      "text/plain": [
       "200"
      ]
     },
     "execution_count": 3,
     "metadata": {},
     "output_type": "execute_result"
    }
   ],
   "source": [
    "r.status_code"
   ]
  },
  {
   "cell_type": "code",
   "execution_count": 4,
   "metadata": {},
   "outputs": [
    {
     "data": {
      "text/plain": [
       "{'Server': 'Apache', 'Strict-Transport-Security': 'max-age=63072000; includeSubdomains;', 'X-Frame-Options': 'SAMEORIGIN', 'Access-Control-Allow-Origin': '*', 'Content-Type': 'application/json', 'Vary': 'Accept-Encoding', 'Content-Encoding': 'gzip', 'Expires': 'Mon, 05 Aug 2019 18:57:03 GMT', 'Cache-Control': 'max-age=0, no-cache, no-store', 'Pragma': 'no-cache', 'Date': 'Mon, 05 Aug 2019 18:57:03 GMT', 'Content-Length': '379', 'Connection': 'keep-alive'}"
      ]
     },
     "execution_count": 4,
     "metadata": {},
     "output_type": "execute_result"
    }
   ],
   "source": [
    "r.headers"
   ]
  },
  {
   "cell_type": "code",
   "execution_count": 5,
   "metadata": {},
   "outputs": [
    {
     "data": {
      "text/plain": [
       "{'request': {'category_id': 371, 'command': 'category'},\n",
       " 'category': {'category_id': '371',\n",
       "  'parent_category_id': None,\n",
       "  'name': 'EIA Data Sets',\n",
       "  'notes': '',\n",
       "  'childcategories': [{'category_id': 0, 'name': 'Electricity'},\n",
       "   {'category_id': 40203, 'name': 'State Energy Data System (SEDS)'},\n",
       "   {'category_id': 711224, 'name': 'Total Energy'},\n",
       "   {'category_id': 714755, 'name': 'Petroleum'},\n",
       "   {'category_id': 714804, 'name': 'Natural Gas'},\n",
       "   {'category_id': 717234, 'name': 'Coal'},\n",
       "   {'category_id': 829714, 'name': 'Short-Term Energy Outlook'},\n",
       "   {'category_id': 964164, 'name': 'Annual Energy Outlook'},\n",
       "   {'category_id': 1292190, 'name': 'Crude Oil Imports'},\n",
       "   {'category_id': 2123635, 'name': 'U.S. Electric System Operating Data'},\n",
       "   {'category_id': 2134384, 'name': 'International Energy Data'},\n",
       "   {'category_id': 2251604, 'name': 'CO2 Emissions'},\n",
       "   {'category_id': 2631064, 'name': 'International Energy Outlook'},\n",
       "   {'category_id': 2889994, 'name': 'U.S. Nuclear Outages'}],\n",
       "  'childseries': []}}"
      ]
     },
     "execution_count": 5,
     "metadata": {},
     "output_type": "execute_result"
    }
   ],
   "source": [
    "r.json()"
   ]
  },
  {
   "cell_type": "code",
   "execution_count": null,
   "metadata": {},
   "outputs": [],
   "source": []
  }
 ],
 "metadata": {
  "kernelspec": {
   "display_name": "Python 3",
   "language": "python",
   "name": "python3"
  },
  "language_info": {
   "codemirror_mode": {
    "name": "ipython",
    "version": 3
   },
   "file_extension": ".py",
   "mimetype": "text/x-python",
   "name": "python",
   "nbconvert_exporter": "python",
   "pygments_lexer": "ipython3",
   "version": "3.7.3"
  }
 },
 "nbformat": 4,
 "nbformat_minor": 2
}
